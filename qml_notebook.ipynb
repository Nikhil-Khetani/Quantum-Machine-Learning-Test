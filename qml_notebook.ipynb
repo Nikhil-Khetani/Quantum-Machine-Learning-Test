{
 "metadata": {
  "language_info": {
   "codemirror_mode": {
    "name": "ipython",
    "version": 3
   },
   "file_extension": ".py",
   "mimetype": "text/x-python",
   "name": "python",
   "nbconvert_exporter": "python",
   "pygments_lexer": "ipython3",
   "version": "3.8.3"
  },
  "orig_nbformat": 2,
  "kernelspec": {
   "name": "python383jvsc74a57bd01ac84e56b93d5159a59e30071584351c46219097ffd3c74f7197133884cbbc55",
   "display_name": "Python 3.8.3 64-bit"
  }
 },
 "nbformat": 4,
 "nbformat_minor": 2,
 "cells": [
  {
   "cell_type": "code",
   "execution_count": 1,
   "metadata": {},
   "outputs": [],
   "source": [
    "from qiskit_machine_learning.datasets import ad_hoc_data\n",
    "from qiskit_machine_learning.algorithms import VQC\n",
    "from qiskit.circuit.library import ZZFeatureMap, RealAmplitudes\n",
    "from qiskit.algorithms.optimizers import L_BFGS_B\n",
    "from qiskit.providers.aer import QasmSimulator\n",
    "X_train, y_train, X_test, y_test = ad_hoc_data(20, 10, 2, 0.1)\n",
    "\n"
   ]
  },
  {
   "cell_type": "code",
   "execution_count": 2,
   "metadata": {},
   "outputs": [
    {
     "output_type": "execute_result",
     "data": {
      "text/plain": [
       "<qiskit_machine_learning.algorithms.classifiers.vqc.VQC at 0x1fbe75a3550>"
      ]
     },
     "metadata": {},
     "execution_count": 2
    }
   ],
   "source": [
    "num_qubits = 2\n",
    "vqc = VQC(feature_map=ZZFeatureMap(num_qubits),\n",
    "        ansatz = RealAmplitudes(num_qubits, reps=1),\n",
    "        loss = 'cross_entropy',\n",
    "        optimizer = L_BFGS_B(),\n",
    "        quantum_instance = QasmSimulator())\n",
    "\n",
    "vqc.fit(X_train,y_train)"
   ]
  },
  {
   "cell_type": "code",
   "execution_count": 3,
   "metadata": {},
   "outputs": [
    {
     "output_type": "stream",
     "name": "stdout",
     "text": [
      "0.9\n"
     ]
    }
   ],
   "source": [
    "print(vqc.score(X_test, y_test))"
   ]
  },
  {
   "cell_type": "code",
   "execution_count": null,
   "metadata": {},
   "outputs": [],
   "source": []
  }
 ]
}